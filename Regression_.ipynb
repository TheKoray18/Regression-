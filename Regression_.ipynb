{
  "nbformat": 4,
  "nbformat_minor": 0,
  "metadata": {
    "colab": {
      "name": "Regression .ipynb",
      "provenance": [],
      "collapsed_sections": [],
      "toc_visible": true,
      "authorship_tag": "ABX9TyPr02ndn3RVOdfejXdhWFTa",
      "include_colab_link": true
    },
    "kernelspec": {
      "name": "python3",
      "display_name": "Python 3"
    },
    "language_info": {
      "name": "python"
    }
  },
  "cells": [
    {
      "cell_type": "markdown",
      "metadata": {
        "id": "view-in-github",
        "colab_type": "text"
      },
      "source": [
        "<a href=\"https://colab.research.google.com/github/TheKoray18/Regression-/blob/main/Regression_.ipynb\" target=\"_parent\"><img src=\"https://colab.research.google.com/assets/colab-badge.svg\" alt=\"Open In Colab\"/></a>"
      ]
    },
    {
      "cell_type": "markdown",
      "metadata": {
        "id": "91O_HhRk3Prb"
      },
      "source": [
        "# Regression "
      ]
    },
    {
      "cell_type": "code",
      "metadata": {
        "id": "v-jiksjY3STz"
      },
      "source": [
        "class Regression():\n",
        "\n",
        "  def fit(self,data_x,data_y):\n",
        "\n",
        "    if data_x.shape == data_y.shape:\n",
        "      \n",
        "      #Eğim\n",
        "      x_ort = np.mean(data_x)\n",
        "      x_kare = 0\n",
        "      y_ort = np.mean(data_y)\n",
        "      xy_sum = 0\n",
        "      n = len(data_x)\n",
        "      self.result_eğim = 0\n",
        "      up = 0\n",
        "      down = 0\n",
        "\n",
        "      for i in range(len(data_x)):\n",
        "\n",
        "        xy_sum += np.multiply(data_x[i], data_y[i])\n",
        "        x_kare += np.power(data_x[i], 2)\n",
        "        \n",
        "      up = np.subtract(xy_sum, np.multiply(n,(x_ort * y_ort)))\n",
        "      down = np.subtract(x_kare, np.multiply(n,x_ort ** 2))\n",
        "      self.result_eğim = np.divide(up,down) \n",
        "      \n",
        "      #Sabit \n",
        "      self.result_sabit = 0\n",
        "      x_ort = np.mean(data_x)\n",
        "      y_ort = np.mean(data_y)\n",
        "      eğim = self.result_eğim\n",
        "      self.result_sabit = np.subtract(y_ort, np.multiply(self.result_eğim, x_ort))\n",
        "\n",
        "      cache = {'Eğim':list(self.result_eğim),\n",
        "               'Sabit':list(self.result_sabit)\n",
        "               }\n",
        "    else:\n",
        "      print(\"data_x and data_y Shapes are not Same!\")\n",
        "    \n",
        "    return cache\n",
        "\n",
        "  def Prediction(self,data_test):\n",
        "    \n",
        "    self.reg_pred = []\n",
        "    y = 0      \n",
        "    for i in range(len(data_test)):\n",
        "      y = np.add(self.result_sabit, np.multiply(self.result_eğim, data_test[i]))\n",
        "      self.reg_pred.append(y)\n",
        "    \n",
        "    return self.reg_pred\n",
        "  \n",
        "  def Korelasyon(self,data_x,data_y):\n",
        "\n",
        "    self.x_sum = 0\n",
        "    self.x_kare = 0\n",
        "    self.y_sum = 0\n",
        "    self.y_kare = 0\n",
        "    self.xy_sum = 0\n",
        "    self.n = len(data_x)\n",
        "    self.up = 0\n",
        "    self.down = 0\n",
        "    self.result_kor = 0\n",
        "\n",
        "    for i in range(len(data_x)):\n",
        "\n",
        "      self.x_sum += data_x[i]\n",
        "      self.y_sum += data_y[i]\n",
        "      self.xy_sum += np.multiply(data_x[i], data_y[i])\n",
        "      self.x_kare += np.power(data_x[i], 2)\n",
        "      self.y_kare += np.power(data_y[i], 2)\n",
        "\n",
        "    self.up = np.subtract(self.xy_sum, np.divide(np.multiply(self.x_sum, self.y_sum), self.n))\n",
        "    self.down = np.multiply(np.subtract(self.x_kare, np.divide(self.x_sum ** 2, self.n)), \n",
        "                            np.subtract(self.y_kare, np.divide(self.y_sum ** 2, self.n)))\n",
        "    self.down = np.sqrt(self.down)\n",
        "    self.result_kor = np.divide(self.up, self.down)\n",
        "\n",
        "    return f\"Korelasyon : {self.result_kor}\" \n",
        "  \n",
        "  def Varyans(self,data_x):\n",
        "    \n",
        "    self.ort_kare_top = 0\n",
        "    self.ort = np.mean(data_x)\n",
        "    self.payda = np.subtract(len(data_x),1)\n",
        "    self.var_result = 0\n",
        "\n",
        "    for i in range(len(data_x)):\n",
        "      \n",
        "      self.ort_kare_top += np.subtract(data_x[i], self.ort)**2\n",
        "\n",
        "    self.var_result = np.divide(self.ort_kare_top,self.payda)\n",
        "\n",
        "    return f\"Variance:{self.var_result}\"\n"
      ],
      "execution_count": 2,
      "outputs": []
    },
    {
      "cell_type": "markdown",
      "metadata": {
        "id": "DuuvPcna3vs7"
      },
      "source": [
        "# Regression Model For Test"
      ]
    },
    {
      "cell_type": "code",
      "metadata": {
        "colab": {
          "base_uri": "https://localhost:8080/"
        },
        "id": "qL0CK5l531Vq",
        "outputId": "4f87485b-dd4a-4f3f-85fc-85ed2f821a0c"
      },
      "source": [
        "from google.colab import drive\n",
        "\n",
        "drive.mount(\"/content/drive\")"
      ],
      "execution_count": 3,
      "outputs": [
        {
          "output_type": "stream",
          "name": "stdout",
          "text": [
            "Drive already mounted at /content/drive; to attempt to forcibly remount, call drive.mount(\"/content/drive\", force_remount=True).\n"
          ]
        }
      ]
    },
    {
      "cell_type": "code",
      "metadata": {
        "id": "fowaRUWW4akb"
      },
      "source": [
        "import numpy as np\n",
        "import pandas as pd\n",
        "import warnings\n",
        "\n",
        "warnings.filterwarnings('ignore')"
      ],
      "execution_count": 4,
      "outputs": []
    },
    {
      "cell_type": "code",
      "metadata": {
        "colab": {
          "base_uri": "https://localhost:8080/",
          "height": 203
        },
        "id": "XGMNCnhs4rl6",
        "outputId": "b1a550a1-98b5-4040-c890-cb08cd300788"
      },
      "source": [
        "df = pd.read_csv('/content/drive/My Drive/Colab Notebooks/column_2C_weka.csv')\n",
        "\n",
        "data = df.copy()\n",
        "\n",
        "data.head()"
      ],
      "execution_count": 5,
      "outputs": [
        {
          "output_type": "execute_result",
          "data": {
            "text/html": [
              "<div>\n",
              "<style scoped>\n",
              "    .dataframe tbody tr th:only-of-type {\n",
              "        vertical-align: middle;\n",
              "    }\n",
              "\n",
              "    .dataframe tbody tr th {\n",
              "        vertical-align: top;\n",
              "    }\n",
              "\n",
              "    .dataframe thead th {\n",
              "        text-align: right;\n",
              "    }\n",
              "</style>\n",
              "<table border=\"1\" class=\"dataframe\">\n",
              "  <thead>\n",
              "    <tr style=\"text-align: right;\">\n",
              "      <th></th>\n",
              "      <th>pelvic_incidence</th>\n",
              "      <th>pelvic_tilt numeric</th>\n",
              "      <th>lumbar_lordosis_angle</th>\n",
              "      <th>sacral_slope</th>\n",
              "      <th>pelvic_radius</th>\n",
              "      <th>degree_spondylolisthesis</th>\n",
              "      <th>class</th>\n",
              "    </tr>\n",
              "  </thead>\n",
              "  <tbody>\n",
              "    <tr>\n",
              "      <th>0</th>\n",
              "      <td>63.027818</td>\n",
              "      <td>22.552586</td>\n",
              "      <td>39.609117</td>\n",
              "      <td>40.475232</td>\n",
              "      <td>98.672917</td>\n",
              "      <td>-0.254400</td>\n",
              "      <td>Abnormal</td>\n",
              "    </tr>\n",
              "    <tr>\n",
              "      <th>1</th>\n",
              "      <td>39.056951</td>\n",
              "      <td>10.060991</td>\n",
              "      <td>25.015378</td>\n",
              "      <td>28.995960</td>\n",
              "      <td>114.405425</td>\n",
              "      <td>4.564259</td>\n",
              "      <td>Abnormal</td>\n",
              "    </tr>\n",
              "    <tr>\n",
              "      <th>2</th>\n",
              "      <td>68.832021</td>\n",
              "      <td>22.218482</td>\n",
              "      <td>50.092194</td>\n",
              "      <td>46.613539</td>\n",
              "      <td>105.985135</td>\n",
              "      <td>-3.530317</td>\n",
              "      <td>Abnormal</td>\n",
              "    </tr>\n",
              "    <tr>\n",
              "      <th>3</th>\n",
              "      <td>69.297008</td>\n",
              "      <td>24.652878</td>\n",
              "      <td>44.311238</td>\n",
              "      <td>44.644130</td>\n",
              "      <td>101.868495</td>\n",
              "      <td>11.211523</td>\n",
              "      <td>Abnormal</td>\n",
              "    </tr>\n",
              "    <tr>\n",
              "      <th>4</th>\n",
              "      <td>49.712859</td>\n",
              "      <td>9.652075</td>\n",
              "      <td>28.317406</td>\n",
              "      <td>40.060784</td>\n",
              "      <td>108.168725</td>\n",
              "      <td>7.918501</td>\n",
              "      <td>Abnormal</td>\n",
              "    </tr>\n",
              "  </tbody>\n",
              "</table>\n",
              "</div>"
            ],
            "text/plain": [
              "   pelvic_incidence  pelvic_tilt numeric  ...  degree_spondylolisthesis     class\n",
              "0         63.027818            22.552586  ...                 -0.254400  Abnormal\n",
              "1         39.056951            10.060991  ...                  4.564259  Abnormal\n",
              "2         68.832021            22.218482  ...                 -3.530317  Abnormal\n",
              "3         69.297008            24.652878  ...                 11.211523  Abnormal\n",
              "4         49.712859             9.652075  ...                  7.918501  Abnormal\n",
              "\n",
              "[5 rows x 7 columns]"
            ]
          },
          "metadata": {},
          "execution_count": 5
        }
      ]
    },
    {
      "cell_type": "code",
      "metadata": {
        "colab": {
          "base_uri": "https://localhost:8080/",
          "height": 203
        },
        "id": "jEOk9rJv41m8",
        "outputId": "19c9e92d-906c-4292-a2d2-dc5618e11960"
      },
      "source": [
        "data['class'] = [1 if i == 'Abnormal' else 0 for i in data['class']]\n",
        "\n",
        "data.head()"
      ],
      "execution_count": 6,
      "outputs": [
        {
          "output_type": "execute_result",
          "data": {
            "text/html": [
              "<div>\n",
              "<style scoped>\n",
              "    .dataframe tbody tr th:only-of-type {\n",
              "        vertical-align: middle;\n",
              "    }\n",
              "\n",
              "    .dataframe tbody tr th {\n",
              "        vertical-align: top;\n",
              "    }\n",
              "\n",
              "    .dataframe thead th {\n",
              "        text-align: right;\n",
              "    }\n",
              "</style>\n",
              "<table border=\"1\" class=\"dataframe\">\n",
              "  <thead>\n",
              "    <tr style=\"text-align: right;\">\n",
              "      <th></th>\n",
              "      <th>pelvic_incidence</th>\n",
              "      <th>pelvic_tilt numeric</th>\n",
              "      <th>lumbar_lordosis_angle</th>\n",
              "      <th>sacral_slope</th>\n",
              "      <th>pelvic_radius</th>\n",
              "      <th>degree_spondylolisthesis</th>\n",
              "      <th>class</th>\n",
              "    </tr>\n",
              "  </thead>\n",
              "  <tbody>\n",
              "    <tr>\n",
              "      <th>0</th>\n",
              "      <td>63.027818</td>\n",
              "      <td>22.552586</td>\n",
              "      <td>39.609117</td>\n",
              "      <td>40.475232</td>\n",
              "      <td>98.672917</td>\n",
              "      <td>-0.254400</td>\n",
              "      <td>1</td>\n",
              "    </tr>\n",
              "    <tr>\n",
              "      <th>1</th>\n",
              "      <td>39.056951</td>\n",
              "      <td>10.060991</td>\n",
              "      <td>25.015378</td>\n",
              "      <td>28.995960</td>\n",
              "      <td>114.405425</td>\n",
              "      <td>4.564259</td>\n",
              "      <td>1</td>\n",
              "    </tr>\n",
              "    <tr>\n",
              "      <th>2</th>\n",
              "      <td>68.832021</td>\n",
              "      <td>22.218482</td>\n",
              "      <td>50.092194</td>\n",
              "      <td>46.613539</td>\n",
              "      <td>105.985135</td>\n",
              "      <td>-3.530317</td>\n",
              "      <td>1</td>\n",
              "    </tr>\n",
              "    <tr>\n",
              "      <th>3</th>\n",
              "      <td>69.297008</td>\n",
              "      <td>24.652878</td>\n",
              "      <td>44.311238</td>\n",
              "      <td>44.644130</td>\n",
              "      <td>101.868495</td>\n",
              "      <td>11.211523</td>\n",
              "      <td>1</td>\n",
              "    </tr>\n",
              "    <tr>\n",
              "      <th>4</th>\n",
              "      <td>49.712859</td>\n",
              "      <td>9.652075</td>\n",
              "      <td>28.317406</td>\n",
              "      <td>40.060784</td>\n",
              "      <td>108.168725</td>\n",
              "      <td>7.918501</td>\n",
              "      <td>1</td>\n",
              "    </tr>\n",
              "  </tbody>\n",
              "</table>\n",
              "</div>"
            ],
            "text/plain": [
              "   pelvic_incidence  pelvic_tilt numeric  ...  degree_spondylolisthesis  class\n",
              "0         63.027818            22.552586  ...                 -0.254400      1\n",
              "1         39.056951            10.060991  ...                  4.564259      1\n",
              "2         68.832021            22.218482  ...                 -3.530317      1\n",
              "3         69.297008            24.652878  ...                 11.211523      1\n",
              "4         49.712859             9.652075  ...                  7.918501      1\n",
              "\n",
              "[5 rows x 7 columns]"
            ]
          },
          "metadata": {},
          "execution_count": 6
        }
      ]
    },
    {
      "cell_type": "code",
      "metadata": {
        "id": "C-zfH22h5oI1"
      },
      "source": [
        "pelvic = data['pelvic_incidence'].values\n",
        "\n",
        "sacral = data['sacral_slope'].values"
      ],
      "execution_count": 7,
      "outputs": []
    },
    {
      "cell_type": "code",
      "metadata": {
        "id": "j9btMpDm-eSk"
      },
      "source": [
        "pelvic = np.array([pelvic]).reshape(310,1)\n",
        "sacral = np.array([sacral]).reshape(310,1)"
      ],
      "execution_count": 8,
      "outputs": []
    },
    {
      "cell_type": "code",
      "metadata": {
        "id": "dnNxTylU6bBr"
      },
      "source": [
        "from sklearn.linear_model import LinearRegression\n",
        "\n",
        "def linear_model(data_x,data_y):\n",
        "  \n",
        "  lr_mod = LinearRegression()\n",
        "  model = lr_mod.fit(data_x,data_y)\n",
        "  y_pred = model.predict(data_y)\n",
        "\n",
        "  cache = {'model':model,\n",
        "          'y_pred':y_pred,\n",
        "           }\n",
        "  return cache"
      ],
      "execution_count": 9,
      "outputs": []
    },
    {
      "cell_type": "code",
      "metadata": {
        "id": "6n4FJwQe70Yr"
      },
      "source": [
        "cache = linear_model(pelvic,sacral)\n",
        "\n",
        "model,y_pred= cache['model'],cache['y_pred']"
      ],
      "execution_count": 10,
      "outputs": []
    },
    {
      "cell_type": "markdown",
      "metadata": {
        "id": "MatxH_CN9MGc"
      },
      "source": [
        "- Modelimizin Sabit(Constant)'ini bulalım"
      ]
    },
    {
      "cell_type": "code",
      "metadata": {
        "colab": {
          "base_uri": "https://localhost:8080/"
        },
        "id": "xUAL-nTd9Rgt",
        "outputId": "eb810391-748f-4fa7-e314-6231f8cee0bf"
      },
      "source": [
        "const = model.intercept_\n",
        "\n",
        "const"
      ],
      "execution_count": 11,
      "outputs": [
        {
          "output_type": "execute_result",
          "data": {
            "text/plain": [
              "array([4.55916137])"
            ]
          },
          "metadata": {},
          "execution_count": 11
        }
      ]
    },
    {
      "cell_type": "markdown",
      "metadata": {
        "id": "d5TWyCwa9YrF"
      },
      "source": [
        "- Modelimizin Eğim(Slope)'ini bulalım"
      ]
    },
    {
      "cell_type": "code",
      "metadata": {
        "colab": {
          "base_uri": "https://localhost:8080/"
        },
        "id": "nt_4zPpv9XuR",
        "outputId": "4e481dd4-e5f9-4386-eec5-8f02965fdd78"
      },
      "source": [
        "slope = model.coef_\n",
        "\n",
        "slope"
      ],
      "execution_count": 12,
      "outputs": [
        {
          "output_type": "execute_result",
          "data": {
            "text/plain": [
              "array([[0.63465775]])"
            ]
          },
          "metadata": {},
          "execution_count": 12
        }
      ]
    },
    {
      "cell_type": "markdown",
      "metadata": {
        "id": "zO7N278L-l0D"
      },
      "source": [
        "- Modelimizi kullanarak tahmin yapalım "
      ]
    },
    {
      "cell_type": "code",
      "metadata": {
        "colab": {
          "base_uri": "https://localhost:8080/"
        },
        "id": "h0vRA1Ow-pbb",
        "outputId": "441e245a-a435-494e-bd69-b2f1c87acab0"
      },
      "source": [
        "model.predict([[45]])"
      ],
      "execution_count": 13,
      "outputs": [
        {
          "output_type": "execute_result",
          "data": {
            "text/plain": [
              "array([[33.11876009]])"
            ]
          },
          "metadata": {},
          "execution_count": 13
        }
      ]
    },
    {
      "cell_type": "markdown",
      "metadata": {
        "id": "1biG1erO-v0_"
      },
      "source": [
        "- Denklem ile bulalım bu tahmini\n",
        "\n",
        "- İlk önce Sabit ve Eğimi Bulacağız\n",
        "\n",
        "- Ho = 0o + 01.Xi\n",
        "\n",
        "- Maliyet Fonksiyonu : Basitçe diyebiliriz ki bulduğumuz hipotez ile var olan gerçek değerler arasındaki fark bizim maliyet fonksiyonumuzdur. Yani hipotezimizin bize olan maliyetini ölçmemizi sağlar."
      ]
    },
    {
      "cell_type": "code",
      "metadata": {
        "colab": {
          "base_uri": "https://localhost:8080/"
        },
        "id": "30SFhDPZ-0VL",
        "outputId": "b41b994b-3ee8-4d8a-a6ed-b56f776f9b02"
      },
      "source": [
        "y_head = const + slope * 45\n",
        "\n",
        "y_head"
      ],
      "execution_count": 14,
      "outputs": [
        {
          "output_type": "execute_result",
          "data": {
            "text/plain": [
              "array([[33.11876009]])"
            ]
          },
          "metadata": {},
          "execution_count": 14
        }
      ]
    },
    {
      "cell_type": "code",
      "metadata": {
        "colab": {
          "base_uri": "https://localhost:8080/"
        },
        "id": "i56KyvGv8A5J",
        "outputId": "31bc583d-5648-401a-dab7-29098c6c6579"
      },
      "source": [
        "np.var(pelvic)"
      ],
      "execution_count": 15,
      "outputs": [
        {
          "output_type": "execute_result",
          "data": {
            "text/plain": [
              "296.1392533400351"
            ]
          },
          "metadata": {},
          "execution_count": 15
        }
      ]
    },
    {
      "cell_type": "markdown",
      "metadata": {
        "id": "L3HrWdeaAoiD"
      },
      "source": [
        "# Our Regression Model For Test"
      ]
    },
    {
      "cell_type": "code",
      "metadata": {
        "id": "ewSB6TgACD4W"
      },
      "source": [
        "out_reg = Regression()"
      ],
      "execution_count": 16,
      "outputs": []
    },
    {
      "cell_type": "code",
      "metadata": {
        "colab": {
          "base_uri": "https://localhost:8080/"
        },
        "id": "KlXZGQ4NCIzV",
        "outputId": "6037c030-268a-43b2-e25d-4f5bd3d4b7f5"
      },
      "source": [
        "out_reg.fit(pelvic,sacral)"
      ],
      "execution_count": 17,
      "outputs": [
        {
          "output_type": "execute_result",
          "data": {
            "text/plain": [
              "{'Eğim': [0.6346577494130035], 'Sabit': [4.559161366153063]}"
            ]
          },
          "metadata": {},
          "execution_count": 17
        }
      ]
    },
    {
      "cell_type": "code",
      "metadata": {
        "id": "vtdJZJbsCR1e",
        "colab": {
          "base_uri": "https://localhost:8080/"
        },
        "outputId": "6b2c6748-942f-49e0-bb4a-b34e92bf3176"
      },
      "source": [
        "our_y_pred = out_reg.Prediction(sacral)\n",
        "\n",
        "our_y_pred"
      ],
      "execution_count": 21,
      "outputs": [
        {
          "output_type": "execute_result",
          "data": {
            "text/plain": [
              "[array([30.24708072]),\n",
              " array([22.96167177]),\n",
              " array([34.14280508]),\n",
              " array([32.89290454]),\n",
              " array([29.98404867]),\n",
              " array([21.26861662]),\n",
              " array([28.40235943]),\n",
              " array([26.52539097]),\n",
              " array([23.76164368]),\n",
              " array([24.66224307]),\n",
              " array([27.82929106]),\n",
              " array([13.13755606]),\n",
              " array([22.93313483]),\n",
              " array([25.57353113]),\n",
              " array([25.57353113]),\n",
              " array([24.72916541]),\n",
              " array([32.14930423]),\n",
              " array([22.4129358]),\n",
              " array([20.58627721]),\n",
              " array([23.26626274]),\n",
              " array([23.43698079]),\n",
              " array([26.04683869]),\n",
              " array([29.09490826]),\n",
              " array([25.16725519]),\n",
              " array([13.04258752]),\n",
              " array([21.99602231]),\n",
              " array([14.32557173]),\n",
              " array([21.74066688]),\n",
              " array([18.91503395]),\n",
              " array([31.20667116]),\n",
              " array([27.03686996]),\n",
              " array([26.96969662]),\n",
              " array([22.00770339]),\n",
              " array([20.85515142]),\n",
              " array([22.07399905]),\n",
              " array([19.5738925]),\n",
              " array([20.49009186]),\n",
              " array([14.87882629]),\n",
              " array([21.6922794]),\n",
              " array([25.76169613]),\n",
              " array([19.65816037]),\n",
              " array([28.70601175]),\n",
              " array([26.5336497]),\n",
              " array([29.91852944]),\n",
              " array([29.77557528]),\n",
              " array([22.26438061]),\n",
              " array([21.12680926]),\n",
              " array([20.28289632]),\n",
              " array([18.88946207]),\n",
              " array([19.70738197]),\n",
              " array([26.67427612]),\n",
              " array([25.42433566]),\n",
              " array([17.53762523]),\n",
              " array([16.13055312]),\n",
              " array([19.69604946]),\n",
              " array([26.37891357]),\n",
              " array([27.33203784]),\n",
              " array([24.55358838]),\n",
              " array([19.49902971]),\n",
              " array([25.61616091]),\n",
              " array([31.42077983]),\n",
              " array([40.71950535]),\n",
              " array([26.83299346]),\n",
              " array([40.29669638]),\n",
              " array([38.96460946]),\n",
              " array([31.625222]),\n",
              " array([40.29669638]),\n",
              " array([40.29669638]),\n",
              " array([38.27859256]),\n",
              " array([41.91576865]),\n",
              " array([39.5767269]),\n",
              " array([38.8133071]),\n",
              " array([37.53150843]),\n",
              " array([27.03686996]),\n",
              " array([35.74917766]),\n",
              " array([23.85194948]),\n",
              " array([36.74303228]),\n",
              " array([37.00001182]),\n",
              " array([36.27284456]),\n",
              " array([27.18809165]),\n",
              " array([34.15742639]),\n",
              " array([38.12185555]),\n",
              " array([42.34316464]),\n",
              " array([40.29669638]),\n",
              " array([26.09297023]),\n",
              " array([27.11342397]),\n",
              " array([31.15509216]),\n",
              " array([26.57870942]),\n",
              " array([29.82207553]),\n",
              " array([34.5725135]),\n",
              " array([38.13710217]),\n",
              " array([36.79520328]),\n",
              " array([48.67257474]),\n",
              " array([32.01718172]),\n",
              " array([54.56641739]),\n",
              " array([19.71179338]),\n",
              " array([53.55203213]),\n",
              " array([39.44236563]),\n",
              " array([39.60633863]),\n",
              " array([32.86447605]),\n",
              " array([38.97279384]),\n",
              " array([43.37768474]),\n",
              " array([40.68979686]),\n",
              " array([32.04956213]),\n",
              " array([35.03084902]),\n",
              " array([28.29876082]),\n",
              " array([39.5767269]),\n",
              " array([33.11876009]),\n",
              " array([40.63442547]),\n",
              " array([38.53287659]),\n",
              " array([36.41544465]),\n",
              " array([39.71212921]),\n",
              " array([35.38850841]),\n",
              " array([36.5950146]),\n",
              " array([32.5760659]),\n",
              " array([81.62537618]),\n",
              " array([41.36589434]),\n",
              " array([34.5725135]),\n",
              " array([30.82035676]),\n",
              " array([33.11876009]),\n",
              " array([31.625222]),\n",
              " array([43.14794803]),\n",
              " array([24.87162584]),\n",
              " array([39.54446142]),\n",
              " array([42.88966473]),\n",
              " array([31.4518914]),\n",
              " array([35.63993542]),\n",
              " array([44.81864322]),\n",
              " array([44.06118591]),\n",
              " array([42.95549532]),\n",
              " array([30.54614049]),\n",
              " array([40.10224256]),\n",
              " array([35.3423036]),\n",
              " array([43.67372374]),\n",
              " array([26.76711815]),\n",
              " array([34.24303709]),\n",
              " array([35.13686392]),\n",
              " array([35.71172844]),\n",
              " array([34.61229818]),\n",
              " array([45.1935084]),\n",
              " array([38.93371465]),\n",
              " array([30.32708765]),\n",
              " array([47.08839155]),\n",
              " array([29.96467562]),\n",
              " array([33.58492955]),\n",
              " array([31.82062574]),\n",
              " array([39.54446142]),\n",
              " array([41.90286474]),\n",
              " array([40.05100275]),\n",
              " array([39.65881076]),\n",
              " array([42.90655428]),\n",
              " array([32.52269528]),\n",
              " array([35.84090449]),\n",
              " array([31.30211243]),\n",
              " array([27.02274283]),\n",
              " array([37.72205626]),\n",
              " array([38.03400066]),\n",
              " array([31.66500668]),\n",
              " array([40.53750883]),\n",
              " array([37.41296537]),\n",
              " array([40.50213606]),\n",
              " array([42.68209287]),\n",
              " array([55.13830814]),\n",
              " array([54.32129486]),\n",
              " array([32.88715041]),\n",
              " array([44.81864322]),\n",
              " array([36.36650362]),\n",
              " array([40.05100275]),\n",
              " array([49.34059006]),\n",
              " array([31.94615991]),\n",
              " array([36.06069288]),\n",
              " array([45.40509577]),\n",
              " array([31.98277945]),\n",
              " array([31.06265919]),\n",
              " array([27.42421308]),\n",
              " array([34.77049636]),\n",
              " array([38.66957975]),\n",
              " array([43.64061813]),\n",
              " array([39.02738577]),\n",
              " array([16.80173869]),\n",
              " array([25.7724768]),\n",
              " array([35.91043253]),\n",
              " array([32.41955376]),\n",
              " array([25.81141791]),\n",
              " array([42.80053939]),\n",
              " array([47.05620223]),\n",
              " array([42.5285005]),\n",
              " array([39.56324406]),\n",
              " array([34.40769555]),\n",
              " array([38.27859255]),\n",
              " array([26.07804281]),\n",
              " array([33.86076343]),\n",
              " array([30.69812794]),\n",
              " array([42.58170626]),\n",
              " array([38.64963284]),\n",
              " array([46.42975022]),\n",
              " array([36.93242229]),\n",
              " array([18.04595937]),\n",
              " array([43.23862917]),\n",
              " array([41.76723798]),\n",
              " array([32.06504902]),\n",
              " array([26.28823244]),\n",
              " array([26.37891357]),\n",
              " array([45.12943233]),\n",
              " array([31.31497526]),\n",
              " array([33.86076343]),\n",
              " array([35.61307646]),\n",
              " array([39.63733219]),\n",
              " array([47.28017885]),\n",
              " array([24.76822363]),\n",
              " array([18.23030866]),\n",
              " array([27.37664841]),\n",
              " array([27.03686996]),\n",
              " array([24.14902118]),\n",
              " array([26.79879341]),\n",
              " array([15.593938]),\n",
              " array([32.63394601]),\n",
              " array([24.59465353]),\n",
              " array([27.18809165]),\n",
              " array([28.66568289]),\n",
              " array([18.96769605]),\n",
              " array([35.71172844]),\n",
              " array([31.84783692]),\n",
              " array([36.60963885]),\n",
              " array([47.20528048]),\n",
              " array([37.5621688]),\n",
              " array([34.95836432]),\n",
              " array([31.12824595]),\n",
              " array([23.43698079]),\n",
              " array([25.71909966]),\n",
              " array([31.51554042]),\n",
              " array([30.56219133]),\n",
              " array([23.15603442]),\n",
              " array([24.57296143]),\n",
              " array([22.54897548]),\n",
              " array([32.45768365]),\n",
              " array([35.16522835]),\n",
              " array([35.13686392]),\n",
              " array([39.91792663]),\n",
              " array([28.04310158]),\n",
              " array([25.38314957]),\n",
              " array([28.68346093]),\n",
              " array([25.85234901]),\n",
              " array([21.78068801]),\n",
              " array([27.21013441]),\n",
              " array([28.11566463]),\n",
              " array([24.09655852]),\n",
              " array([25.56106517]),\n",
              " array([29.14958975]),\n",
              " array([23.92779297]),\n",
              " array([28.02140731]),\n",
              " array([29.25462852]),\n",
              " array([35.50763398]),\n",
              " array([31.4985435]),\n",
              " array([38.43634953]),\n",
              " array([38.12185555]),\n",
              " array([33.11876009]),\n",
              " array([38.27859255]),\n",
              " array([23.69697888]),\n",
              " array([34.18795805]),\n",
              " array([31.34634989]),\n",
              " array([42.67309876]),\n",
              " array([22.41944667]),\n",
              " array([23.67107547]),\n",
              " array([34.82203879]),\n",
              " array([29.0420548]),\n",
              " array([27.50723396]),\n",
              " array([32.13620981]),\n",
              " array([30.3622892]),\n",
              " array([17.67049873]),\n",
              " array([31.49164346]),\n",
              " array([21.04401178]),\n",
              " array([25.08871706]),\n",
              " array([26.6231632]),\n",
              " array([25.63947812]),\n",
              " array([36.6551986]),\n",
              " array([28.48210319]),\n",
              " array([37.91005912]),\n",
              " array([31.05153894]),\n",
              " array([24.09655852]),\n",
              " array([27.82324464]),\n",
              " array([36.1420422]),\n",
              " array([30.09547798]),\n",
              " array([27.33203784]),\n",
              " array([32.86798331]),\n",
              " array([37.08793043]),\n",
              " array([32.87794765]),\n",
              " array([25.73538412]),\n",
              " array([41.90286474]),\n",
              " array([23.76164368]),\n",
              " array([18.86628973]),\n",
              " array([27.95892763]),\n",
              " array([24.94754058]),\n",
              " array([32.04956213]),\n",
              " array([27.51703537]),\n",
              " array([29.82207553]),\n",
              " array([19.44065599]),\n",
              " array([21.5783637]),\n",
              " array([33.50558816]),\n",
              " array([38.20315031]),\n",
              " array([32.62066508]),\n",
              " array([44.50381809]),\n",
              " array([25.57353113]),\n",
              " array([25.07105644]),\n",
              " array([25.35594324]),\n",
              " array([26.31959354]),\n",
              " array([25.63947812]),\n",
              " array([29.15318259]),\n",
              " array([27.76201686]),\n",
              " array([22.81677295])]"
            ]
          },
          "metadata": {},
          "execution_count": 21
        }
      ]
    },
    {
      "cell_type": "markdown",
      "metadata": {
        "id": "IUpNvt2fsK2j"
      },
      "source": [
        "- Kendi Regression modelimiz ile **45** değerini tahmin edelim. \n",
        "- Sonuç **LinearRegression()** modeli ile aynı sonuç olduğunu gördük."
      ]
    },
    {
      "cell_type": "code",
      "metadata": {
        "colab": {
          "base_uri": "https://localhost:8080/"
        },
        "id": "3ctEMlD-r9sm",
        "outputId": "5139a504-1baf-415b-fdb2-c2bcca1ca7a0"
      },
      "source": [
        "out_reg.Prediction([[45]])"
      ],
      "execution_count": 20,
      "outputs": [
        {
          "output_type": "execute_result",
          "data": {
            "text/plain": [
              "[array([33.11876009])]"
            ]
          },
          "metadata": {},
          "execution_count": 20
        }
      ]
    },
    {
      "cell_type": "code",
      "metadata": {
        "colab": {
          "base_uri": "https://localhost:8080/",
          "height": 35
        },
        "id": "4r28xS8SA00o",
        "outputId": "d1aa5ebc-4ea9-49a8-cc9e-798522bc65ac"
      },
      "source": [
        "out_reg.Varyans(pelvic)"
      ],
      "execution_count": 19,
      "outputs": [
        {
          "output_type": "execute_result",
          "data": {
            "application/vnd.google.colaboratory.intrinsic+json": {
              "type": "string"
            },
            "text/plain": [
              "'Variance:[297.0976328]'"
            ]
          },
          "metadata": {},
          "execution_count": 19
        }
      ]
    }
  ]
}