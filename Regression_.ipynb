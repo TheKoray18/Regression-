{
  "nbformat": 4,
  "nbformat_minor": 0,
  "metadata": {
    "colab": {
      "name": "Regression .ipynb",
      "provenance": [],
      "collapsed_sections": [],
      "toc_visible": true,
      "authorship_tag": "ABX9TyNbP0Xw1OhVeg9Z9QQb9qSL",
      "include_colab_link": true
    },
    "kernelspec": {
      "name": "python3",
      "display_name": "Python 3"
    },
    "language_info": {
      "name": "python"
    }
  },
  "cells": [
    {
      "cell_type": "markdown",
      "metadata": {
        "id": "view-in-github",
        "colab_type": "text"
      },
      "source": [
        "<a href=\"https://colab.research.google.com/github/TheKoray18/Regression-/blob/main/Regression_.ipynb\" target=\"_parent\"><img src=\"https://colab.research.google.com/assets/colab-badge.svg\" alt=\"Open In Colab\"/></a>"
      ]
    },
    {
      "cell_type": "markdown",
      "metadata": {
        "id": "91O_HhRk3Prb"
      },
      "source": [
        "# Regression "
      ]
    },
    {
      "cell_type": "code",
      "metadata": {
        "id": "v-jiksjY3STz"
      },
      "source": [
        "class Regression():\n",
        "\n",
        "  def fit(self,data_x,data_y):\n",
        "\n",
        "    if data_x.shape == data_y.shape:\n",
        "      \n",
        "      #Eğim\n",
        "      x_ort = np.mean(data_x)\n",
        "      x_kare = 0\n",
        "      y_ort = np.mean(data_y)\n",
        "      xy_sum = 0\n",
        "      n = len(data_x)\n",
        "      self.result_eğim = 0\n",
        "      up = 0\n",
        "      down = 0\n",
        "\n",
        "      for i in range(len(data_x)):\n",
        "\n",
        "        xy_sum += np.multiply(data_x[i], data_y[i])\n",
        "        x_kare += np.power(data_x[i], 2)\n",
        "        \n",
        "      up = np.subtract(xy_sum, np.multiply(n,(x_ort * y_ort)))\n",
        "      down = np.subtract(x_kare, np.multiply(n,x_ort ** 2))\n",
        "      self.result_eğim = np.divide(up,down) \n",
        "      \n",
        "      #Sabit \n",
        "      self.result_sabit = 0\n",
        "      x_ort = np.mean(data_x)\n",
        "      y_ort = np.mean(data_y)\n",
        "      eğim = self.result_eğim\n",
        "      self.result_sabit = np.subtract(y_ort, np.multiply(self.result_eğim, x_ort))\n",
        "\n",
        "      cache = {'Eğim':list(self.result_eğim),\n",
        "               'Sabit':list(self.result_sabit)\n",
        "               }\n",
        "    else:\n",
        "      print(\"data_x and data_y Shapes are not Same!\")\n",
        "    \n",
        "    return cache\n",
        "\n",
        "  def Prediction(self,data_test):\n",
        "    \n",
        "    self.reg_pred = []\n",
        "    y = 0      \n",
        "    for i in range(len(data_test)):\n",
        "      y = np.add(self.result_sabit, np.multiply(self.result_eğim, data_test[i]))\n",
        "      self.reg_pred.append(y)\n",
        "    \n",
        "    return self.reg_pred\n",
        "  \n",
        "  def Korelasyon(self,data_x,data_y):\n",
        "\n",
        "    self.x_sum = 0\n",
        "    self.x_kare = 0\n",
        "    self.y_sum = 0\n",
        "    self.y_kare = 0\n",
        "    self.xy_sum = 0\n",
        "    self.n = len(data_x)\n",
        "    self.up = 0\n",
        "    self.down = 0\n",
        "    self.result_kor = 0\n",
        "\n",
        "    for i in range(len(data_x)):\n",
        "\n",
        "      self.x_sum += data_x[i]\n",
        "      self.y_sum += data_y[i]\n",
        "      self.xy_sum += np.multiply(data_x[i], data_y[i])\n",
        "      self.x_kare += np.power(data_x[i], 2)\n",
        "      self.y_kare += np.power(data_y[i], 2)\n",
        "\n",
        "    self.up = np.subtract(self.xy_sum, np.divide(np.multiply(self.x_sum, self.y_sum), self.n))\n",
        "    self.down = np.multiply(np.subtract(self.x_kare, np.divide(self.x_sum ** 2, self.n)), \n",
        "                            np.subtract(self.y_kare, np.divide(self.y_sum ** 2, self.n)))\n",
        "    self.down = np.sqrt(self.down)\n",
        "    self.result_kor = np.divide(self.up, self.down)\n",
        "\n",
        "    return f\"Korelasyon : {self.result_kor}\" \n",
        "  \n",
        "  def Varyans(self,data_x):\n",
        "    \n",
        "    self.ort_kare_top = 0\n",
        "    self.ort = np.mean(data_x)\n",
        "    self.payda = np.subtract(len(data_x),1)\n",
        "    self.var_result = 0\n",
        "\n",
        "    for i in range(len(data_x)):\n",
        "      \n",
        "      self.ort_kare_top += np.subtract(data_x[i], self.ort)**2\n",
        "\n",
        "    self.var_result = np.divide(self.ort_kare_top,self.payda)\n",
        "\n",
        "    return f\"Variance:{self.var_result}\"\n"
      ],
      "execution_count": null,
      "outputs": []
    },
    {
      "cell_type": "markdown",
      "metadata": {
        "id": "DuuvPcna3vs7"
      },
      "source": [
        "# Regression Model For Test"
      ]
    },
    {
      "cell_type": "code",
      "metadata": {
        "colab": {
          "base_uri": "https://localhost:8080/"
        },
        "id": "qL0CK5l531Vq",
        "outputId": "00d8c81d-ef61-4fa1-a809-c22f67401936"
      },
      "source": [
        "from google.colab import drive\n",
        "\n",
        "drive.mount(\"/content/drive\")"
      ],
      "execution_count": null,
      "outputs": [
        {
          "output_type": "stream",
          "text": [
            "Mounted at /content/drive\n"
          ],
          "name": "stdout"
        }
      ]
    },
    {
      "cell_type": "code",
      "metadata": {
        "id": "fowaRUWW4akb"
      },
      "source": [
        "import numpy as np\n",
        "import pandas as pd\n",
        "import warnings\n",
        "\n",
        "warnings.filterwarnings('ignore')"
      ],
      "execution_count": null,
      "outputs": []
    },
    {
      "cell_type": "code",
      "metadata": {
        "colab": {
          "base_uri": "https://localhost:8080/",
          "height": 203
        },
        "id": "XGMNCnhs4rl6",
        "outputId": "84bf696e-140b-433a-b763-88bd43eaba3b"
      },
      "source": [
        "df = pd.read_csv('/content/drive/My Drive/Colab Notebooks/column_2C_weka.csv')\n",
        "\n",
        "data = df.copy()\n",
        "\n",
        "data.head()"
      ],
      "execution_count": null,
      "outputs": [
        {
          "output_type": "execute_result",
          "data": {
            "text/html": [
              "<div>\n",
              "<style scoped>\n",
              "    .dataframe tbody tr th:only-of-type {\n",
              "        vertical-align: middle;\n",
              "    }\n",
              "\n",
              "    .dataframe tbody tr th {\n",
              "        vertical-align: top;\n",
              "    }\n",
              "\n",
              "    .dataframe thead th {\n",
              "        text-align: right;\n",
              "    }\n",
              "</style>\n",
              "<table border=\"1\" class=\"dataframe\">\n",
              "  <thead>\n",
              "    <tr style=\"text-align: right;\">\n",
              "      <th></th>\n",
              "      <th>pelvic_incidence</th>\n",
              "      <th>pelvic_tilt numeric</th>\n",
              "      <th>lumbar_lordosis_angle</th>\n",
              "      <th>sacral_slope</th>\n",
              "      <th>pelvic_radius</th>\n",
              "      <th>degree_spondylolisthesis</th>\n",
              "      <th>class</th>\n",
              "    </tr>\n",
              "  </thead>\n",
              "  <tbody>\n",
              "    <tr>\n",
              "      <th>0</th>\n",
              "      <td>63.027818</td>\n",
              "      <td>22.552586</td>\n",
              "      <td>39.609117</td>\n",
              "      <td>40.475232</td>\n",
              "      <td>98.672917</td>\n",
              "      <td>-0.254400</td>\n",
              "      <td>Abnormal</td>\n",
              "    </tr>\n",
              "    <tr>\n",
              "      <th>1</th>\n",
              "      <td>39.056951</td>\n",
              "      <td>10.060991</td>\n",
              "      <td>25.015378</td>\n",
              "      <td>28.995960</td>\n",
              "      <td>114.405425</td>\n",
              "      <td>4.564259</td>\n",
              "      <td>Abnormal</td>\n",
              "    </tr>\n",
              "    <tr>\n",
              "      <th>2</th>\n",
              "      <td>68.832021</td>\n",
              "      <td>22.218482</td>\n",
              "      <td>50.092194</td>\n",
              "      <td>46.613539</td>\n",
              "      <td>105.985135</td>\n",
              "      <td>-3.530317</td>\n",
              "      <td>Abnormal</td>\n",
              "    </tr>\n",
              "    <tr>\n",
              "      <th>3</th>\n",
              "      <td>69.297008</td>\n",
              "      <td>24.652878</td>\n",
              "      <td>44.311238</td>\n",
              "      <td>44.644130</td>\n",
              "      <td>101.868495</td>\n",
              "      <td>11.211523</td>\n",
              "      <td>Abnormal</td>\n",
              "    </tr>\n",
              "    <tr>\n",
              "      <th>4</th>\n",
              "      <td>49.712859</td>\n",
              "      <td>9.652075</td>\n",
              "      <td>28.317406</td>\n",
              "      <td>40.060784</td>\n",
              "      <td>108.168725</td>\n",
              "      <td>7.918501</td>\n",
              "      <td>Abnormal</td>\n",
              "    </tr>\n",
              "  </tbody>\n",
              "</table>\n",
              "</div>"
            ],
            "text/plain": [
              "   pelvic_incidence  pelvic_tilt numeric  ...  degree_spondylolisthesis     class\n",
              "0         63.027818            22.552586  ...                 -0.254400  Abnormal\n",
              "1         39.056951            10.060991  ...                  4.564259  Abnormal\n",
              "2         68.832021            22.218482  ...                 -3.530317  Abnormal\n",
              "3         69.297008            24.652878  ...                 11.211523  Abnormal\n",
              "4         49.712859             9.652075  ...                  7.918501  Abnormal\n",
              "\n",
              "[5 rows x 7 columns]"
            ]
          },
          "metadata": {
            "tags": []
          },
          "execution_count": 3
        }
      ]
    },
    {
      "cell_type": "code",
      "metadata": {
        "colab": {
          "base_uri": "https://localhost:8080/",
          "height": 203
        },
        "id": "jEOk9rJv41m8",
        "outputId": "3837f8f8-b7b4-4dfd-c761-93c02e2b5b93"
      },
      "source": [
        "data['class'] = [1 if i == 'Abnormal' else 0 for i in data['class']]\n",
        "\n",
        "data.head()"
      ],
      "execution_count": null,
      "outputs": [
        {
          "output_type": "execute_result",
          "data": {
            "text/html": [
              "<div>\n",
              "<style scoped>\n",
              "    .dataframe tbody tr th:only-of-type {\n",
              "        vertical-align: middle;\n",
              "    }\n",
              "\n",
              "    .dataframe tbody tr th {\n",
              "        vertical-align: top;\n",
              "    }\n",
              "\n",
              "    .dataframe thead th {\n",
              "        text-align: right;\n",
              "    }\n",
              "</style>\n",
              "<table border=\"1\" class=\"dataframe\">\n",
              "  <thead>\n",
              "    <tr style=\"text-align: right;\">\n",
              "      <th></th>\n",
              "      <th>pelvic_incidence</th>\n",
              "      <th>pelvic_tilt numeric</th>\n",
              "      <th>lumbar_lordosis_angle</th>\n",
              "      <th>sacral_slope</th>\n",
              "      <th>pelvic_radius</th>\n",
              "      <th>degree_spondylolisthesis</th>\n",
              "      <th>class</th>\n",
              "    </tr>\n",
              "  </thead>\n",
              "  <tbody>\n",
              "    <tr>\n",
              "      <th>0</th>\n",
              "      <td>63.027818</td>\n",
              "      <td>22.552586</td>\n",
              "      <td>39.609117</td>\n",
              "      <td>40.475232</td>\n",
              "      <td>98.672917</td>\n",
              "      <td>-0.254400</td>\n",
              "      <td>1</td>\n",
              "    </tr>\n",
              "    <tr>\n",
              "      <th>1</th>\n",
              "      <td>39.056951</td>\n",
              "      <td>10.060991</td>\n",
              "      <td>25.015378</td>\n",
              "      <td>28.995960</td>\n",
              "      <td>114.405425</td>\n",
              "      <td>4.564259</td>\n",
              "      <td>1</td>\n",
              "    </tr>\n",
              "    <tr>\n",
              "      <th>2</th>\n",
              "      <td>68.832021</td>\n",
              "      <td>22.218482</td>\n",
              "      <td>50.092194</td>\n",
              "      <td>46.613539</td>\n",
              "      <td>105.985135</td>\n",
              "      <td>-3.530317</td>\n",
              "      <td>1</td>\n",
              "    </tr>\n",
              "    <tr>\n",
              "      <th>3</th>\n",
              "      <td>69.297008</td>\n",
              "      <td>24.652878</td>\n",
              "      <td>44.311238</td>\n",
              "      <td>44.644130</td>\n",
              "      <td>101.868495</td>\n",
              "      <td>11.211523</td>\n",
              "      <td>1</td>\n",
              "    </tr>\n",
              "    <tr>\n",
              "      <th>4</th>\n",
              "      <td>49.712859</td>\n",
              "      <td>9.652075</td>\n",
              "      <td>28.317406</td>\n",
              "      <td>40.060784</td>\n",
              "      <td>108.168725</td>\n",
              "      <td>7.918501</td>\n",
              "      <td>1</td>\n",
              "    </tr>\n",
              "  </tbody>\n",
              "</table>\n",
              "</div>"
            ],
            "text/plain": [
              "   pelvic_incidence  pelvic_tilt numeric  ...  degree_spondylolisthesis  class\n",
              "0         63.027818            22.552586  ...                 -0.254400      1\n",
              "1         39.056951            10.060991  ...                  4.564259      1\n",
              "2         68.832021            22.218482  ...                 -3.530317      1\n",
              "3         69.297008            24.652878  ...                 11.211523      1\n",
              "4         49.712859             9.652075  ...                  7.918501      1\n",
              "\n",
              "[5 rows x 7 columns]"
            ]
          },
          "metadata": {
            "tags": []
          },
          "execution_count": 4
        }
      ]
    },
    {
      "cell_type": "code",
      "metadata": {
        "id": "C-zfH22h5oI1"
      },
      "source": [
        "pelvic = data['pelvic_incidence'].values\n",
        "\n",
        "sacral = data['sacral_slope'].values"
      ],
      "execution_count": null,
      "outputs": []
    },
    {
      "cell_type": "code",
      "metadata": {
        "id": "j9btMpDm-eSk"
      },
      "source": [
        "pelvic = np.array([pelvic]).reshape(310,1)\n",
        "sacral = np.array([sacral]).reshape(310,1)"
      ],
      "execution_count": null,
      "outputs": []
    },
    {
      "cell_type": "code",
      "metadata": {
        "id": "dnNxTylU6bBr"
      },
      "source": [
        "from sklearn.linear_model import LinearRegression\n",
        "\n",
        "def linear_model(data_x,data_y):\n",
        "  \n",
        "  lr_mod = LinearRegression()\n",
        "  model = lr_mod.fit(data_x,data_y)\n",
        "  y_pred = model.predict(data_y)\n",
        "\n",
        "  cache = {'model':model,\n",
        "          'y_pred':y_pred,\n",
        "           }\n",
        "  return cache"
      ],
      "execution_count": null,
      "outputs": []
    },
    {
      "cell_type": "code",
      "metadata": {
        "id": "6n4FJwQe70Yr"
      },
      "source": [
        "cache = linear_model(pelvic,sacral)\n",
        "\n",
        "model,y_pred= cache['model'],cache['y_pred']"
      ],
      "execution_count": null,
      "outputs": []
    },
    {
      "cell_type": "markdown",
      "metadata": {
        "id": "MatxH_CN9MGc"
      },
      "source": [
        "- Modelimizin Sabit(Constant)'ini bulalım"
      ]
    },
    {
      "cell_type": "code",
      "metadata": {
        "colab": {
          "base_uri": "https://localhost:8080/"
        },
        "id": "xUAL-nTd9Rgt",
        "outputId": "039031ea-c299-4d15-c5c9-a5f35856490e"
      },
      "source": [
        "const = model.intercept_\n",
        "\n",
        "const"
      ],
      "execution_count": null,
      "outputs": [
        {
          "output_type": "execute_result",
          "data": {
            "text/plain": [
              "array([4.55916137])"
            ]
          },
          "metadata": {
            "tags": []
          },
          "execution_count": 9
        }
      ]
    },
    {
      "cell_type": "markdown",
      "metadata": {
        "id": "d5TWyCwa9YrF"
      },
      "source": [
        "- Modelimizin Eğim(Slope)'ini bulalım"
      ]
    },
    {
      "cell_type": "code",
      "metadata": {
        "colab": {
          "base_uri": "https://localhost:8080/"
        },
        "id": "nt_4zPpv9XuR",
        "outputId": "82391fd5-617f-487d-d6b1-8c03d128cd23"
      },
      "source": [
        "slope = model.coef_\n",
        "\n",
        "slope"
      ],
      "execution_count": null,
      "outputs": [
        {
          "output_type": "execute_result",
          "data": {
            "text/plain": [
              "array([[0.63465775]])"
            ]
          },
          "metadata": {
            "tags": []
          },
          "execution_count": 10
        }
      ]
    },
    {
      "cell_type": "markdown",
      "metadata": {
        "id": "zO7N278L-l0D"
      },
      "source": [
        "- Modelimizi kullanarak tahmin yapalım "
      ]
    },
    {
      "cell_type": "code",
      "metadata": {
        "colab": {
          "base_uri": "https://localhost:8080/"
        },
        "id": "h0vRA1Ow-pbb",
        "outputId": "044923c9-d196-4d92-81c1-b573c4465126"
      },
      "source": [
        "model.predict([[45]])"
      ],
      "execution_count": null,
      "outputs": [
        {
          "output_type": "execute_result",
          "data": {
            "text/plain": [
              "array([[33.11876009]])"
            ]
          },
          "metadata": {
            "tags": []
          },
          "execution_count": 11
        }
      ]
    },
    {
      "cell_type": "markdown",
      "metadata": {
        "id": "1biG1erO-v0_"
      },
      "source": [
        "- Denklem ile bulalım bu tahmini\n",
        "\n",
        "- İlk önce Sabit ve Eğimi Bulacağız\n",
        "\n",
        "- Ho = 0o + 01.Xi\n",
        "\n",
        "- Maliyet Fonksiyonu : Basitçe diyebiliriz ki bulduğumuz hipotez ile var olan gerçek değerler arasındaki fark bizim maliyet fonksiyonumuzdur. Yani hipotezimizin bize olan maliyetini ölçmemizi sağlar."
      ]
    },
    {
      "cell_type": "code",
      "metadata": {
        "colab": {
          "base_uri": "https://localhost:8080/"
        },
        "id": "30SFhDPZ-0VL",
        "outputId": "da423114-761e-4d7f-ed28-cc252e44eb24"
      },
      "source": [
        "y_head = const + slope * 45\n",
        "\n",
        "y_head"
      ],
      "execution_count": null,
      "outputs": [
        {
          "output_type": "execute_result",
          "data": {
            "text/plain": [
              "array([[33.11876009]])"
            ]
          },
          "metadata": {
            "tags": []
          },
          "execution_count": 12
        }
      ]
    },
    {
      "cell_type": "code",
      "metadata": {
        "colab": {
          "base_uri": "https://localhost:8080/"
        },
        "id": "i56KyvGv8A5J",
        "outputId": "8251b76f-2665-46d2-9651-446897894d8f"
      },
      "source": [
        "np.var(pelvic)"
      ],
      "execution_count": null,
      "outputs": [
        {
          "output_type": "execute_result",
          "data": {
            "text/plain": [
              "296.1392533400351"
            ]
          },
          "metadata": {
            "tags": []
          },
          "execution_count": 19
        }
      ]
    },
    {
      "cell_type": "markdown",
      "metadata": {
        "id": "L3HrWdeaAoiD"
      },
      "source": [
        "# Our Regression Model For Test"
      ]
    },
    {
      "cell_type": "code",
      "metadata": {
        "id": "ewSB6TgACD4W"
      },
      "source": [
        "out_reg = Regression()"
      ],
      "execution_count": null,
      "outputs": []
    },
    {
      "cell_type": "code",
      "metadata": {
        "colab": {
          "base_uri": "https://localhost:8080/"
        },
        "id": "KlXZGQ4NCIzV",
        "outputId": "70e97f12-5e8c-4f85-dc91-d78128f4c561"
      },
      "source": [
        "out_reg.fit(pelvic,sacral)"
      ],
      "execution_count": null,
      "outputs": [
        {
          "output_type": "execute_result",
          "data": {
            "text/plain": [
              "{'Eğim': [0.6346577494130035], 'Sabit': [4.559161366153063]}"
            ]
          },
          "metadata": {
            "tags": []
          },
          "execution_count": 15
        }
      ]
    },
    {
      "cell_type": "code",
      "metadata": {
        "id": "vtdJZJbsCR1e"
      },
      "source": [
        "out_reg.Prediction(sacral)"
      ],
      "execution_count": null,
      "outputs": []
    },
    {
      "cell_type": "code",
      "metadata": {
        "colab": {
          "base_uri": "https://localhost:8080/",
          "height": 35
        },
        "id": "4r28xS8SA00o",
        "outputId": "d936784c-48e4-43ab-9ad7-595db59870ae"
      },
      "source": [
        "out_reg.Varyans(pelvic)"
      ],
      "execution_count": null,
      "outputs": [
        {
          "output_type": "execute_result",
          "data": {
            "application/vnd.google.colaboratory.intrinsic+json": {
              "type": "string"
            },
            "text/plain": [
              "'Variance:[297.0976328]'"
            ]
          },
          "metadata": {
            "tags": []
          },
          "execution_count": 20
        }
      ]
    }
  ]
}